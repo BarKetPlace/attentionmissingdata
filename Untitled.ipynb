{
 "cells": [
  {
   "cell_type": "code",
   "execution_count": 2,
   "id": "8acb98fc-555e-4693-b93b-f5e9df0e3247",
   "metadata": {},
   "outputs": [
    {
     "ename": "ModuleNotFoundError",
     "evalue": "No module named 'torch.nn.functional.scaled_dot_product_attention'; 'torch.nn.functional' is not a package",
     "output_type": "error",
     "traceback": [
      "\u001b[0;31m---------------------------------------------------------------------------\u001b[0m",
      "\u001b[0;31mModuleNotFoundError\u001b[0m                       Traceback (most recent call last)",
      "Cell \u001b[0;32mIn[2], line 3\u001b[0m\n\u001b[1;32m      1\u001b[0m \u001b[38;5;28;01mimport\u001b[39;00m \u001b[38;5;21;01mtorch\u001b[39;00m\n\u001b[1;32m      2\u001b[0m \u001b[38;5;28;01mfrom\u001b[39;00m \u001b[38;5;21;01mtorch\u001b[39;00m\u001b[38;5;21;01m.\u001b[39;00m\u001b[38;5;21;01mnn\u001b[39;00m\u001b[38;5;21;01m.\u001b[39;00m\u001b[38;5;21;01mattention\u001b[39;00m\u001b[38;5;21;01m.\u001b[39;00m\u001b[38;5;21;01mflex_attention\u001b[39;00m \u001b[38;5;28;01mimport\u001b[39;00m flex_attention\n\u001b[0;32m----> 3\u001b[0m \u001b[38;5;28;01mimport\u001b[39;00m \u001b[38;5;21;01mtorch\u001b[39;00m\u001b[38;5;21;01m.\u001b[39;00m\u001b[38;5;21;01mnn\u001b[39;00m\u001b[38;5;21;01m.\u001b[39;00m\u001b[38;5;21;01mfunctional\u001b[39;00m\u001b[38;5;21;01m.\u001b[39;00m\u001b[38;5;21;01mscaled_dot_product_attention\u001b[39;00m \u001b[38;5;28;01mas\u001b[39;00m \u001b[38;5;21;01mscaled_dot_product_attention\u001b[39;00m\n\u001b[1;32m      5\u001b[0m \u001b[38;5;28;01mimport\u001b[39;00m \u001b[38;5;21;01mmatplotlib\u001b[39;00m\u001b[38;5;21;01m.\u001b[39;00m\u001b[38;5;21;01mpyplot\u001b[39;00m \u001b[38;5;28;01mas\u001b[39;00m \u001b[38;5;21;01mplt\u001b[39;00m\n\u001b[1;32m      7\u001b[0m M \u001b[38;5;241m=\u001b[39m \u001b[38;5;241m10\u001b[39m\n",
      "\u001b[0;31mModuleNotFoundError\u001b[0m: No module named 'torch.nn.functional.scaled_dot_product_attention'; 'torch.nn.functional' is not a package"
     ]
    }
   ],
   "source": [
    "import torch\n",
    "from torch.nn.attention.flex_attention import flex_attention\n",
    "import torch.nn.functional.scaled_dot_product_attention as scaled_dot_product_attention\n",
    "\n",
    "import matplotlib.pyplot as plt\n",
    "\n",
    "M = 10\n",
    "Tmax = 200\n",
    "Dmax = 100\n",
    "N = 1\n",
    "\n",
    "D = torch.randint(Dmax//2,Dmax,(M,))\n",
    "T = torch.sort(torch.randint(Tmax//2,Tmax,(M,)),descending=True).values\n",
    "names = [\"m{}\".format(i+1) for i in range(M)]\n",
    "timelines = {k: torch.sort(torch.randn(t).abs(),descending=False).values*100 for k,t in zip(names, T)}\n",
    "\n",
    "\n",
    "data = {k:torch.randn(N,t,d) for k,t,d in zip(names, T, D)}\n",
    "x1 = data[\"m1\"]\n",
    "t1 = timelines[\"m1\"].reshape(-1,1)\n",
    "\n",
    "x2 = data[\"m2\"]\n",
    "t2 = timelines[\"m2\"].reshape(1, -1)\n",
    "plt.imshow(t1>t2)\n",
    "torch.nn.functional.scaled_dot_product_attention"
   ]
  },
  {
   "cell_type": "code",
   "execution_count": null,
   "id": "f1fdfe9c-2502-4b87-8725-436986eed3df",
   "metadata": {},
   "outputs": [],
   "source": [
    "def causal_mask(b, h, q_idx, kv_idx):\n",
    "    return q_idx >= kv_idx\n"
   ]
  }
 ],
 "metadata": {
  "kernelspec": {
   "display_name": "pydataint",
   "language": "python",
   "name": "pydataint"
  },
  "language_info": {
   "codemirror_mode": {
    "name": "ipython",
    "version": 3
   },
   "file_extension": ".py",
   "mimetype": "text/x-python",
   "name": "python",
   "nbconvert_exporter": "python",
   "pygments_lexer": "ipython3",
   "version": "3.10.12"
  }
 },
 "nbformat": 4,
 "nbformat_minor": 5
}
